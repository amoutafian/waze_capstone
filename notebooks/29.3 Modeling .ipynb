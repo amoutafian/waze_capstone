{
 "cells": [
  {
   "cell_type": "code",
   "execution_count": 140,
   "id": "e111f073",
   "metadata": {},
   "outputs": [],
   "source": [
    "#dataframe\n",
    "import pandas as pd\n",
    "\n",
    "#plots\n",
    "import seaborn as sns\n",
    "import matplotlib.pyplot as plt\n",
    "\n",
    "import numpy as np\n",
    "from sklearn import preprocessing\n",
    "\n",
    "#model selection \n",
    "from sklearn.model_selection import train_test_split\n",
    "from sklearn.model_selection import KFold\n",
    "\n",
    "#models\n",
    "from sklearn.linear_model import LogisticRegression\n",
    "from sklearn.ensemble import RandomForestClassifier\n",
    "from sklearn.neighbors import KNeighborsClassifier\n",
    "import xgboost as xgb\n",
    "\n",
    "\n",
    "#model assessment\n",
    "from sklearn.metrics import accuracy_score, f1_score, precision_score, recall_score\n",
    "from sklearn.metrics import classification_report\n",
    "from sklearn.metrics import confusion_matrix\n",
    "from sklearn.metrics import ConfusionMatrixDisplay\n",
    "\n",
    "#dealing with class imbalance\n",
    "from imblearn.under_sampling import RandomUnderSampler\n",
    "#, RandomOverSampler\n",
    "\n",
    "#tuning\n",
    "from sklearn.model_selection import GridSearchCV"
   ]
  },
  {
   "cell_type": "code",
   "execution_count": 141,
   "id": "76019b3a",
   "metadata": {},
   "outputs": [],
   "source": [
    "#Planning to use logistic regression, KNN, Random Forest and maybe Gradient boosting"
   ]
  },
  {
   "cell_type": "code",
   "execution_count": 142,
   "id": "1d1d87e5-fa90-430d-9a9e-3f2203888b35",
   "metadata": {},
   "outputs": [],
   "source": [
    "#pip install -U imbalanced-learn"
   ]
  },
  {
   "cell_type": "code",
   "execution_count": 143,
   "id": "827a2a19",
   "metadata": {},
   "outputs": [
    {
     "data": {
      "text/html": [
       "<div>\n",
       "<style scoped>\n",
       "    .dataframe tbody tr th:only-of-type {\n",
       "        vertical-align: middle;\n",
       "    }\n",
       "\n",
       "    .dataframe tbody tr th {\n",
       "        vertical-align: top;\n",
       "    }\n",
       "\n",
       "    .dataframe thead th {\n",
       "        text-align: right;\n",
       "    }\n",
       "</style>\n",
       "<table border=\"1\" class=\"dataframe\">\n",
       "  <thead>\n",
       "    <tr style=\"text-align: right;\">\n",
       "      <th></th>\n",
       "      <th>Android</th>\n",
       "      <th>iPhone</th>\n",
       "      <th>label</th>\n",
       "      <th>sessions</th>\n",
       "      <th>drives</th>\n",
       "      <th>total_sessions</th>\n",
       "      <th>n_days_after_onboarding</th>\n",
       "      <th>total_navigations_fav1</th>\n",
       "      <th>total_navigations_fav2</th>\n",
       "      <th>driven_km_drives</th>\n",
       "      <th>duration_minutes_drives</th>\n",
       "      <th>activity_days</th>\n",
       "      <th>driving_days</th>\n",
       "    </tr>\n",
       "  </thead>\n",
       "  <tbody>\n",
       "    <tr>\n",
       "      <th>0</th>\n",
       "      <td>1</td>\n",
       "      <td>0</td>\n",
       "      <td>retained</td>\n",
       "      <td>283</td>\n",
       "      <td>226</td>\n",
       "      <td>296.748273</td>\n",
       "      <td>2276</td>\n",
       "      <td>208</td>\n",
       "      <td>0</td>\n",
       "      <td>2628.845068</td>\n",
       "      <td>1985.775061</td>\n",
       "      <td>28</td>\n",
       "      <td>19</td>\n",
       "    </tr>\n",
       "    <tr>\n",
       "      <th>1</th>\n",
       "      <td>0</td>\n",
       "      <td>1</td>\n",
       "      <td>retained</td>\n",
       "      <td>133</td>\n",
       "      <td>107</td>\n",
       "      <td>326.896596</td>\n",
       "      <td>1225</td>\n",
       "      <td>19</td>\n",
       "      <td>64</td>\n",
       "      <td>13715.920550</td>\n",
       "      <td>3160.472914</td>\n",
       "      <td>13</td>\n",
       "      <td>11</td>\n",
       "    </tr>\n",
       "    <tr>\n",
       "      <th>2</th>\n",
       "      <td>1</td>\n",
       "      <td>0</td>\n",
       "      <td>retained</td>\n",
       "      <td>114</td>\n",
       "      <td>95</td>\n",
       "      <td>135.522926</td>\n",
       "      <td>2651</td>\n",
       "      <td>0</td>\n",
       "      <td>0</td>\n",
       "      <td>3059.148818</td>\n",
       "      <td>1610.735904</td>\n",
       "      <td>14</td>\n",
       "      <td>8</td>\n",
       "    </tr>\n",
       "  </tbody>\n",
       "</table>\n",
       "</div>"
      ],
      "text/plain": [
       "   Android  iPhone     label  sessions  drives  total_sessions  \\\n",
       "0        1       0  retained       283     226      296.748273   \n",
       "1        0       1  retained       133     107      326.896596   \n",
       "2        1       0  retained       114      95      135.522926   \n",
       "\n",
       "   n_days_after_onboarding  total_navigations_fav1  total_navigations_fav2  \\\n",
       "0                     2276                     208                       0   \n",
       "1                     1225                      19                      64   \n",
       "2                     2651                       0                       0   \n",
       "\n",
       "   driven_km_drives  duration_minutes_drives  activity_days  driving_days  \n",
       "0       2628.845068              1985.775061             28            19  \n",
       "1      13715.920550              3160.472914             13            11  \n",
       "2       3059.148818              1610.735904             14             8  "
      ]
     },
     "execution_count": 143,
     "metadata": {},
     "output_type": "execute_result"
    }
   ],
   "source": [
    "waze_cleaned = pd.read_csv(\"../data/waze_processed.csv\")\n",
    "waze_cleaned.head(3)"
   ]
  },
  {
   "cell_type": "markdown",
   "id": "5f69b879",
   "metadata": {},
   "source": [
    "<h3> Classes are inherently imbalanced"
   ]
  },
  {
   "cell_type": "code",
   "execution_count": 144,
   "id": "25f0a6c8",
   "metadata": {},
   "outputs": [
    {
     "data": {
      "image/png": "[encoded data removed]",
      "text/plain": [
       "<Figure size 500x200 with 1 Axes>"
      ]
     },
     "metadata": {},
     "output_type": "display_data"
    }
   ],
   "source": [
    "plt.figure(figsize = (5,2))\n",
    "sns.countplot(x = waze_cleaned[\"label\"])\n",
    "plt.xlabel(\"\");"
   ]
  },
  {
   "cell_type": "code",
   "execution_count": 145,
   "id": "23fe0ba9",
   "metadata": {},
   "outputs": [
    {
     "name": "stdout",
     "output_type": "stream",
     "text": [
      "Total retained count: 11763\n",
      "Total churn count: 2536\n",
      "Churn rate 0.18\n"
     ]
    }
   ],
   "source": [
    "retained_count = waze_cleaned['label'].value_counts().get(\"retained\", 0)\n",
    "churn_count = waze_cleaned['label'].value_counts().get(\"churned\", 0)\n",
    "churn_rate = churn_count/(churn_count+retained_count)\n",
    "print(\"Total retained count:\", retained_count)\n",
    "print(\"Total churn count:\", churn_count)\n",
    "print(\"Churn rate\", round(churn_rate, 2))"
   ]
  },
  {
   "cell_type": "code",
   "execution_count": 146,
   "id": "cdaf82cf",
   "metadata": {},
   "outputs": [],
   "source": [
    "#The above cells show that the data is unbalanced. \n",
    "#Resample to balance classes. "
   ]
  },
  {
   "cell_type": "code",
   "execution_count": 147,
   "id": "c0db04dc-bc82-41b1-bfa3-9e80fcf70396",
   "metadata": {},
   "outputs": [
    {
     "data": {
      "text/html": [
       "<div>\n",
       "<style scoped>\n",
       "    .dataframe tbody tr th:only-of-type {\n",
       "        vertical-align: middle;\n",
       "    }\n",
       "\n",
       "    .dataframe tbody tr th {\n",
       "        vertical-align: top;\n",
       "    }\n",
       "\n",
       "    .dataframe thead th {\n",
       "        text-align: right;\n",
       "    }\n",
       "</style>\n",
       "<table border=\"1\" class=\"dataframe\">\n",
       "  <thead>\n",
       "    <tr style=\"text-align: right;\">\n",
       "      <th></th>\n",
       "      <th>Android</th>\n",
       "      <th>iPhone</th>\n",
       "      <th>label</th>\n",
       "      <th>sessions</th>\n",
       "      <th>drives</th>\n",
       "      <th>total_sessions</th>\n",
       "      <th>n_days_after_onboarding</th>\n",
       "      <th>total_navigations_fav1</th>\n",
       "      <th>total_navigations_fav2</th>\n",
       "      <th>driven_km_drives</th>\n",
       "      <th>duration_minutes_drives</th>\n",
       "      <th>activity_days</th>\n",
       "      <th>driving_days</th>\n",
       "    </tr>\n",
       "  </thead>\n",
       "  <tbody>\n",
       "    <tr>\n",
       "      <th>0</th>\n",
       "      <td>1</td>\n",
       "      <td>0</td>\n",
       "      <td>0</td>\n",
       "      <td>283</td>\n",
       "      <td>226</td>\n",
       "      <td>296.748273</td>\n",
       "      <td>2276</td>\n",
       "      <td>208</td>\n",
       "      <td>0</td>\n",
       "      <td>2628.845068</td>\n",
       "      <td>1985.775061</td>\n",
       "      <td>28</td>\n",
       "      <td>19</td>\n",
       "    </tr>\n",
       "    <tr>\n",
       "      <th>1</th>\n",
       "      <td>0</td>\n",
       "      <td>1</td>\n",
       "      <td>0</td>\n",
       "      <td>133</td>\n",
       "      <td>107</td>\n",
       "      <td>326.896596</td>\n",
       "      <td>1225</td>\n",
       "      <td>19</td>\n",
       "      <td>64</td>\n",
       "      <td>13715.920550</td>\n",
       "      <td>3160.472914</td>\n",
       "      <td>13</td>\n",
       "      <td>11</td>\n",
       "    </tr>\n",
       "    <tr>\n",
       "      <th>2</th>\n",
       "      <td>1</td>\n",
       "      <td>0</td>\n",
       "      <td>0</td>\n",
       "      <td>114</td>\n",
       "      <td>95</td>\n",
       "      <td>135.522926</td>\n",
       "      <td>2651</td>\n",
       "      <td>0</td>\n",
       "      <td>0</td>\n",
       "      <td>3059.148818</td>\n",
       "      <td>1610.735904</td>\n",
       "      <td>14</td>\n",
       "      <td>8</td>\n",
       "    </tr>\n",
       "  </tbody>\n",
       "</table>\n",
       "</div>"
      ],
      "text/plain": [
       "   Android  iPhone  label  sessions  drives  total_sessions  \\\n",
       "0        1       0      0       283     226      296.748273   \n",
       "1        0       1      0       133     107      326.896596   \n",
       "2        1       0      0       114      95      135.522926   \n",
       "\n",
       "   n_days_after_onboarding  total_navigations_fav1  total_navigations_fav2  \\\n",
       "0                     2276                     208                       0   \n",
       "1                     1225                      19                      64   \n",
       "2                     2651                       0                       0   \n",
       "\n",
       "   driven_km_drives  duration_minutes_drives  activity_days  driving_days  \n",
       "0       2628.845068              1985.775061             28            19  \n",
       "1      13715.920550              3160.472914             13            11  \n",
       "2       3059.148818              1610.735904             14             8  "
      ]
     },
     "execution_count": 147,
     "metadata": {},
     "output_type": "execute_result"
    }
   ],
   "source": [
    "#convert values in label column to 1 (churned) or 0 (retained)\n",
    "waze_cleaned['label']= waze_cleaned['label'].apply(lambda x: True if x == 'churned' else False).astype(int)\n",
    "waze_cleaned.head(3)"
   ]
  },
  {
   "cell_type": "markdown",
   "id": "e986d8b1",
   "metadata": {},
   "source": [
    "<h3> Split data into testing and training datasets and standardize"
   ]
  },
  {
   "cell_type": "code",
   "execution_count": 148,
   "id": "4d1fd8d6",
   "metadata": {},
   "outputs": [],
   "source": [
    "#Split data into testing and training datasets\n",
    "X = waze_cleaned.drop('label', axis = 1)\n",
    "y = waze_cleaned['label']\n",
    "X_train, X_test, y_train, y_test = train_test_split(X, y, test_size=.2, random_state=42)\n",
    "\n",
    "# Standardize the magnitude of numeric features using a scaler\n",
    "scaler = preprocessing.StandardScaler().fit(X_train)\n",
    "X_train_scaled=scaler.transform(X_train)\n",
    "X_test_scaled=scaler.transform(X_test)"
   ]
  },
  {
   "cell_type": "code",
   "execution_count": 149,
   "id": "d122ffe7-a18e-4d1c-820d-80a0f32c70e0",
   "metadata": {},
   "outputs": [],
   "source": [
    "#Change balance of imbalanced classes in dependent variable\n",
    "sampling_strategy = 0.5\n",
    "rus = RandomUnderSampler(sampling_strategy=sampling_strategy)\n",
    "X_train_scaled_res, y_res = rus.fit_resample(X_train_scaled, y_train)"
   ]
  },
  {
   "cell_type": "code",
   "execution_count": 150,
   "id": "edf6166d-2c30-453a-a42a-336ad31499a8",
   "metadata": {},
   "outputs": [
    {
     "data": {
      "image/png": "[encoded data removed]",
      "text/plain": [
       "<Figure size 500x200 with 1 Axes>"
      ]
     },
     "metadata": {},
     "output_type": "display_data"
    }
   ],
   "source": [
    "# Convert y_res to a DataFrame for visualization\n",
    "y_res_df = pd.DataFrame(y_res, columns=['label'])\n",
    "\n",
    "# Visualize the new class balance\n",
    "plt.figure(figsize = (5, 2))\n",
    "sns.countplot(x = y_res_df[\"label\"])\n",
    "plt.xlabel(\"\")\n",
    "plt.xticks([0, 1], ['retained', 'churned'])\n",
    "plt.title(\"Class Balance after Resampling\")\n",
    "plt.show()"
   ]
  },
  {
   "cell_type": "code",
   "execution_count": 151,
   "id": "ab59f309-14f7-4e27-8848-2ac3f556b77f",
   "metadata": {},
   "outputs": [
    {
     "name": "stdout",
     "output_type": "stream",
     "text": [
      "Total retained count: 4026\n",
      "Total churn count: 2013\n",
      "Churn rate 0.33\n"
     ]
    }
   ],
   "source": [
    "retained_count = y_res_df[\"label\"].value_counts().get(0, 0)\n",
    "churn_count = y_res_df[\"label\"].value_counts().get(1, 0)\n",
    "churn_rate = churn_count/(churn_count+retained_count)\n",
    "print(\"Total retained count:\", retained_count)\n",
    "print(\"Total churn count:\", churn_count)\n",
    "print(\"Churn rate\", round(churn_rate, 2))"
   ]
  },
  {
   "cell_type": "code",
   "execution_count": 152,
   "id": "0761e3d8-814f-4b57-8fd8-03d54b88a27c",
   "metadata": {},
   "outputs": [],
   "source": [
    "#rename variables to those used before resampling\n",
    "X_train_scaled = X_train_scaled_res\n",
    "y_train = y_res"
   ]
  },
  {
   "cell_type": "markdown",
   "id": "beb53787",
   "metadata": {},
   "source": [
    "<h1> Logistic Regression"
   ]
  },
  {
   "cell_type": "code",
   "execution_count": 153,
   "id": "5618b283",
   "metadata": {},
   "outputs": [
    {
     "data": {
      "text/html": [
       "<style>#sk-container-id-8 {color: black;background-color: white;}#sk-container-id-8 pre{padding: 0;}#sk-container-id-8 div.sk-toggleable {background-color: white;}#sk-container-id-8 label.sk-toggleable__label {cursor: pointer;display: block;width: 100%;margin-bottom: 0;padding: 0.3em;box-sizing: border-box;text-align: center;}#sk-container-id-8 label.sk-toggleable__label-arrow:before {content: \"▸\";float: left;margin-right: 0.25em;color: #696969;}#sk-container-id-8 label.sk-toggleable__label-arrow:hover:before {color: black;}#sk-container-id-8 div.sk-estimator:hover label.sk-toggleable__label-arrow:before {color: black;}#sk-container-id-8 div.sk-toggleable__content {max-height: 0;max-width: 0;overflow: hidden;text-align: left;background-color: #f0f8ff;}#sk-container-id-8 div.sk-toggleable__content pre {margin: 0.2em;color: black;border-radius: 0.25em;background-color: #f0f8ff;}#sk-container-id-8 input.sk-toggleable__control:checked~div.sk-toggleable__content {max-height: 200px;max-width: 100%;overflow: auto;}#sk-container-id-8 input.sk-toggleable__control:checked~label.sk-toggleable__label-arrow:before {content: \"▾\";}#sk-container-id-8 div.sk-estimator input.sk-toggleable__control:checked~label.sk-toggleable__label {background-color: #d4ebff;}#sk-container-id-8 div.sk-label input.sk-toggleable__control:checked~label.sk-toggleable__label {background-color: #d4ebff;}#sk-container-id-8 input.sk-hidden--visually {border: 0;clip: rect(1px 1px 1px 1px);clip: rect(1px, 1px, 1px, 1px);height: 1px;margin: -1px;overflow: hidden;padding: 0;position: absolute;width: 1px;}#sk-container-id-8 div.sk-estimator {font-family: monospace;background-color: #f0f8ff;border: 1px dotted black;border-radius: 0.25em;box-sizing: border-box;margin-bottom: 0.5em;}#sk-container-id-8 div.sk-estimator:hover {background-color: #d4ebff;}#sk-container-id-8 div.sk-parallel-item::after {content: \"\";width: 100%;border-bottom: 1px solid gray;flex-grow: 1;}#sk-container-id-8 div.sk-label:hover label.sk-toggleable__label {background-color: #d4ebff;}#sk-container-id-8 div.sk-serial::before {content: \"\";position: absolute;border-left: 1px solid gray;box-sizing: border-box;top: 0;bottom: 0;left: 50%;z-index: 0;}#sk-container-id-8 div.sk-serial {display: flex;flex-direction: column;align-items: center;background-color: white;padding-right: 0.2em;padding-left: 0.2em;position: relative;}#sk-container-id-8 div.sk-item {position: relative;z-index: 1;}#sk-container-id-8 div.sk-parallel {display: flex;align-items: stretch;justify-content: center;background-color: white;position: relative;}#sk-container-id-8 div.sk-item::before, #sk-container-id-8 div.sk-parallel-item::before {content: \"\";position: absolute;border-left: 1px solid gray;box-sizing: border-box;top: 0;bottom: 0;left: 50%;z-index: -1;}#sk-container-id-8 div.sk-parallel-item {display: flex;flex-direction: column;z-index: 1;position: relative;background-color: white;}#sk-container-id-8 div.sk-parallel-item:first-child::after {align-self: flex-end;width: 50%;}#sk-container-id-8 div.sk-parallel-item:last-child::after {align-self: flex-start;width: 50%;}#sk-container-id-8 div.sk-parallel-item:only-child::after {width: 0;}#sk-container-id-8 div.sk-dashed-wrapped {border: 1px dashed gray;margin: 0 0.4em 0.5em 0.4em;box-sizing: border-box;padding-bottom: 0.4em;background-color: white;}#sk-container-id-8 div.sk-label label {font-family: monospace;font-weight: bold;display: inline-block;line-height: 1.2em;}#sk-container-id-8 div.sk-label-container {text-align: center;}#sk-container-id-8 div.sk-container {/* jupyter's `normalize.less` sets `[hidden] { display: none; }` but bootstrap.min.css set `[hidden] { display: none !important; }` so we also need the `!important` here to be able to override the default hidden behavior on the sphinx rendered scikit-learn.org. See: https://github.com/scikit-learn/scikit-learn/issues/21755 */display: inline-block !important;position: relative;}#sk-container-id-8 div.sk-text-repr-fallback {display: none;}</style><div id=\"sk-container-id-8\" class=\"sk-top-container\"><div class=\"sk-text-repr-fallback\"><pre>LogisticRegression(max_iter=500, random_state=45, solver=&#x27;liblinear&#x27;)</pre><b>In a Jupyter environment, please rerun this cell to show the HTML representation or trust the notebook. <br />On GitHub, the HTML representation is unable to render, please try loading this page with nbviewer.org.</b></div><div class=\"sk-container\" hidden><div class=\"sk-item\"><div class=\"sk-estimator sk-toggleable\"><input class=\"sk-toggleable__control sk-hidden--visually\" id=\"sk-estimator-id-8\" type=\"checkbox\" checked><label for=\"sk-estimator-id-8\" class=\"sk-toggleable__label sk-toggleable__label-arrow\">LogisticRegression</label><div class=\"sk-toggleable__content\"><pre>LogisticRegression(max_iter=500, random_state=45, solver=&#x27;liblinear&#x27;)</pre></div></div></div></div></div>"
      ],
      "text/plain": [
       "LogisticRegression(max_iter=500, random_state=45, solver='liblinear')"
      ]
     },
     "execution_count": 153,
     "metadata": {},
     "output_type": "execute_result"
    }
   ],
   "source": [
    "#Instantiate the model and set parameters\n",
    "#I also tried the newton_cg solver, but went with liblinear and l2 (default) (Ridge) regularization. Similar accuracy results\n",
    "clf_lr = LogisticRegression(solver = 'liblinear', max_iter = 500, random_state = 45)\n",
    "#Fit the model using training set\n",
    "clf_lr.fit(X_train_scaled, y_train)"
   ]
  },
  {
   "cell_type": "code",
   "execution_count": 154,
   "id": "79ada802",
   "metadata": {},
   "outputs": [
    {
     "name": "stdout",
     "output_type": "stream",
     "text": [
      "test accuracy: 0.7856643356643357\n",
      "train accuracy: 0.7226361980460341\n"
     ]
    }
   ],
   "source": [
    "#Predict y test and check accuracy on predicting test set\n",
    "y_predict = clf_lr.predict(X_test_scaled)\n",
    "test_accuracy = accuracy_score(y_test, y_predict)\n",
    "\n",
    "#check accuracy of model on training set to check for over/underfitting\n",
    "y_train_predicted = clf_lr.predict(X_train_scaled)\n",
    "train_accuracy = accuracy_score(y_train, y_train_predicted)\n",
    "\n",
    "print(\"test accuracy:\", test_accuracy)\n",
    "print(\"train accuracy:\", train_accuracy)"
   ]
  },
  {
   "cell_type": "markdown",
   "id": "1d44e338",
   "metadata": {},
   "source": [
    "While checking for accuracy is only the first step, the well matched train/test accuracy (low variance, with only slightly higher accuracy for training set) is a good start with no obvious over/underfitting. I tried a confusion matrix and got array([[  34,  463],\n",
    "       [  39, 2324]]), then different results, so went back and set a random state of 45 for consistent results"
   ]
  },
  {
   "cell_type": "code",
   "execution_count": 155,
   "id": "2c777d00",
   "metadata": {},
   "outputs": [
    {
     "data": {
      "text/plain": [
       "array([[1998,  339],\n",
       "       [ 274,  249]])"
      ]
     },
     "execution_count": 155,
     "metadata": {},
     "output_type": "execute_result"
    }
   ],
   "source": [
    "cm = confusion_matrix(y_test, y_predict, labels = clf_lr.classes_)\n",
    "cm"
   ]
  },
  {
   "cell_type": "code",
   "execution_count": 156,
   "id": "37188a6f-c3ed-4ff1-ba43-6ebf52249f07",
   "metadata": {},
   "outputs": [
    {
     "name": "stdout",
     "output_type": "stream",
     "text": [
      "The best C value using accuracy scoring is: 0.03359818286283781\n"
     ]
    }
   ],
   "source": [
    "# Define the grid of values for C\n",
    "param_grid = {'C': np.logspace(-4, 4, 20)}\n",
    "\n",
    "# Implement Grid Search\n",
    "grid_search = GridSearchCV(estimator=clf_lr, param_grid=param_grid, cv=5, scoring='accuracy')\n",
    "grid_search.fit(X_train_scaled, y_train)\n",
    "\n",
    "# Print the best C value\n",
    "best_C = grid_search.best_params_['C']\n",
    "print(f\"The best C value using accuracy scoring is: {best_C}\")"
   ]
  },
  {
   "cell_type": "code",
   "execution_count": 157,
   "id": "2099d229-cabf-4eee-a11b-d2df54cd7c52",
   "metadata": {},
   "outputs": [
    {
     "name": "stdout",
     "output_type": "stream",
     "text": [
      "The best C value using recall scoring is: 0.0001\n"
     ]
    }
   ],
   "source": [
    "#reattempt using recall as scoring method\n",
    "grid_search = GridSearchCV(estimator=clf_lr, param_grid=param_grid, cv=5, scoring='recall')\n",
    "grid_search.fit(X_train_scaled, y_train)\n",
    "\n",
    "# Print the best C value\n",
    "best_C = grid_search.best_params_['C']\n",
    "print(f\"The best C value using recall scoring is: {best_C}\")\n"
   ]
  },
  {
   "cell_type": "code",
   "execution_count": 158,
   "id": "b8c16322-f968-4b88-9dbd-0f87cd03c7c1",
   "metadata": {},
   "outputs": [
    {
     "data": {
      "text/html": [
       "<style>#sk-container-id-9 {color: black;background-color: white;}#sk-container-id-9 pre{padding: 0;}#sk-container-id-9 div.sk-toggleable {background-color: white;}#sk-container-id-9 label.sk-toggleable__label {cursor: pointer;display: block;width: 100%;margin-bottom: 0;padding: 0.3em;box-sizing: border-box;text-align: center;}#sk-container-id-9 label.sk-toggleable__label-arrow:before {content: \"▸\";float: left;margin-right: 0.25em;color: #696969;}#sk-container-id-9 label.sk-toggleable__label-arrow:hover:before {color: black;}#sk-container-id-9 div.sk-estimator:hover label.sk-toggleable__label-arrow:before {color: black;}#sk-container-id-9 div.sk-toggleable__content {max-height: 0;max-width: 0;overflow: hidden;text-align: left;background-color: #f0f8ff;}#sk-container-id-9 div.sk-toggleable__content pre {margin: 0.2em;color: black;border-radius: 0.25em;background-color: #f0f8ff;}#sk-container-id-9 input.sk-toggleable__control:checked~div.sk-toggleable__content {max-height: 200px;max-width: 100%;overflow: auto;}#sk-container-id-9 input.sk-toggleable__control:checked~label.sk-toggleable__label-arrow:before {content: \"▾\";}#sk-container-id-9 div.sk-estimator input.sk-toggleable__control:checked~label.sk-toggleable__label {background-color: #d4ebff;}#sk-container-id-9 div.sk-label input.sk-toggleable__control:checked~label.sk-toggleable__label {background-color: #d4ebff;}#sk-container-id-9 input.sk-hidden--visually {border: 0;clip: rect(1px 1px 1px 1px);clip: rect(1px, 1px, 1px, 1px);height: 1px;margin: -1px;overflow: hidden;padding: 0;position: absolute;width: 1px;}#sk-container-id-9 div.sk-estimator {font-family: monospace;background-color: #f0f8ff;border: 1px dotted black;border-radius: 0.25em;box-sizing: border-box;margin-bottom: 0.5em;}#sk-container-id-9 div.sk-estimator:hover {background-color: #d4ebff;}#sk-container-id-9 div.sk-parallel-item::after {content: \"\";width: 100%;border-bottom: 1px solid gray;flex-grow: 1;}#sk-container-id-9 div.sk-label:hover label.sk-toggleable__label {background-color: #d4ebff;}#sk-container-id-9 div.sk-serial::before {content: \"\";position: absolute;border-left: 1px solid gray;box-sizing: border-box;top: 0;bottom: 0;left: 50%;z-index: 0;}#sk-container-id-9 div.sk-serial {display: flex;flex-direction: column;align-items: center;background-color: white;padding-right: 0.2em;padding-left: 0.2em;position: relative;}#sk-container-id-9 div.sk-item {position: relative;z-index: 1;}#sk-container-id-9 div.sk-parallel {display: flex;align-items: stretch;justify-content: center;background-color: white;position: relative;}#sk-container-id-9 div.sk-item::before, #sk-container-id-9 div.sk-parallel-item::before {content: \"\";position: absolute;border-left: 1px solid gray;box-sizing: border-box;top: 0;bottom: 0;left: 50%;z-index: -1;}#sk-container-id-9 div.sk-parallel-item {display: flex;flex-direction: column;z-index: 1;position: relative;background-color: white;}#sk-container-id-9 div.sk-parallel-item:first-child::after {align-self: flex-end;width: 50%;}#sk-container-id-9 div.sk-parallel-item:last-child::after {align-self: flex-start;width: 50%;}#sk-container-id-9 div.sk-parallel-item:only-child::after {width: 0;}#sk-container-id-9 div.sk-dashed-wrapped {border: 1px dashed gray;margin: 0 0.4em 0.5em 0.4em;box-sizing: border-box;padding-bottom: 0.4em;background-color: white;}#sk-container-id-9 div.sk-label label {font-family: monospace;font-weight: bold;display: inline-block;line-height: 1.2em;}#sk-container-id-9 div.sk-label-container {text-align: center;}#sk-container-id-9 div.sk-container {/* jupyter's `normalize.less` sets `[hidden] { display: none; }` but bootstrap.min.css set `[hidden] { display: none !important; }` so we also need the `!important` here to be able to override the default hidden behavior on the sphinx rendered scikit-learn.org. See: https://github.com/scikit-learn/scikit-learn/issues/21755 */display: inline-block !important;position: relative;}#sk-container-id-9 div.sk-text-repr-fallback {display: none;}</style><div id=\"sk-container-id-9\" class=\"sk-top-container\"><div class=\"sk-text-repr-fallback\"><pre>LogisticRegression(C=0.0001, max_iter=500, random_state=45, solver=&#x27;liblinear&#x27;)</pre><b>In a Jupyter environment, please rerun this cell to show the HTML representation or trust the notebook. <br />On GitHub, the HTML representation is unable to render, please try loading this page with nbviewer.org.</b></div><div class=\"sk-container\" hidden><div class=\"sk-item\"><div class=\"sk-estimator sk-toggleable\"><input class=\"sk-toggleable__control sk-hidden--visually\" id=\"sk-estimator-id-9\" type=\"checkbox\" checked><label for=\"sk-estimator-id-9\" class=\"sk-toggleable__label sk-toggleable__label-arrow\">LogisticRegression</label><div class=\"sk-toggleable__content\"><pre>LogisticRegression(C=0.0001, max_iter=500, random_state=45, solver=&#x27;liblinear&#x27;)</pre></div></div></div></div></div>"
      ],
      "text/plain": [
       "LogisticRegression(C=0.0001, max_iter=500, random_state=45, solver='liblinear')"
      ]
     },
     "execution_count": 158,
     "metadata": {},
     "output_type": "execute_result"
    }
   ],
   "source": [
    "#Instantiate the model and set parameters\n",
    "#I also tried the newton_cg solver, but went with liblinear and l2 (default) (Ridge) regularization. Similar accuracy results\n",
    "clf_lr = LogisticRegression(C = .0001, solver = 'liblinear', max_iter = 500, random_state = 45)\n",
    "#Fit the model using training set\n",
    "clf_lr.fit(X_train_scaled, y_train)"
   ]
  },
  {
   "cell_type": "code",
   "execution_count": 159,
   "id": "cefd8676-f30d-4cff-b123-c2526432918d",
   "metadata": {},
   "outputs": [
    {
     "name": "stdout",
     "output_type": "stream",
     "text": [
      "test accuracy: 0.7192307692307692\n",
      "train accuracy: 0.7012750455373407\n"
     ]
    }
   ],
   "source": [
    "#Predict y test and check accuracy on predicting test set\n",
    "y_predict = clf_lr.predict(X_test_scaled)\n",
    "test_accuracy = accuracy_score(y_test, y_predict)\n",
    "\n",
    "#check accuracy of model on training set to check for over/underfitting\n",
    "y_train_predicted = clf_lr.predict(X_train_scaled)\n",
    "train_accuracy = accuracy_score(y_train, y_train_predicted)\n",
    "\n",
    "print(\"test accuracy:\", test_accuracy)\n",
    "print(\"train accuracy:\", train_accuracy)"
   ]
  },
  {
   "cell_type": "code",
   "execution_count": 160,
   "id": "fc6c69fa-2805-40e9-b3f3-9fb58bfade03",
   "metadata": {},
   "outputs": [
    {
     "name": "stdout",
     "output_type": "stream",
     "text": [
      "test recall: 0.6080305927342257\n",
      "train recall: 0.6219572776949827\n"
     ]
    }
   ],
   "source": [
    "#Predict y test and check accuracy on predicting test set\n",
    "y_predict = clf_lr.predict(X_test_scaled)\n",
    "test_recall = recall_score(y_test, y_predict)\n",
    "\n",
    "#check accuracy of model on training set to check for over/underfitting\n",
    "y_train_predicted = clf_lr.predict(X_train_scaled)\n",
    "train_recall = recall_score(y_train, y_train_predicted)\n",
    "\n",
    "print(\"test recall:\", test_recall)\n",
    "print(\"train recall:\", train_recall)"
   ]
  },
  {
   "cell_type": "code",
   "execution_count": 161,
   "id": "21b6c30a",
   "metadata": {},
   "outputs": [
    {
     "data": {
      "image/png": "[encoded data removed]",
      "text/plain": [
       "<Figure size 640x480 with 2 Axes>"
      ]
     },
     "metadata": {},
     "output_type": "display_data"
    }
   ],
   "source": [
    "_, ax = plt.subplots()\n",
    "display_cm = ConfusionMatrixDisplay(confusion_matrix = cm \n",
    "                                    , display_labels = ['churn', 'retain'])\n",
    "ax.set_xticks([0, 1])\n",
    "ax.set_yticks([0, 1])\n",
    "\n",
    "ax.set_xticklabels(labels = ['churn', 'retain'], fontsize = 8)\n",
    "ax.set_yticklabels(labels = ['churn', 'retain'], fontsize = 8)\n",
    "display_cm.plot(ax = ax);"
   ]
  },
  {
   "cell_type": "code",
   "execution_count": 162,
   "id": "dceb8858",
   "metadata": {},
   "outputs": [
    {
     "name": "stdout",
     "output_type": "stream",
     "text": [
      "              precision    recall  f1-score   support\n",
      "\n",
      "           0       0.89      0.74      0.81      2337\n",
      "           1       0.35      0.61      0.44       523\n",
      "\n",
      "    accuracy                           0.72      2860\n",
      "   macro avg       0.62      0.68      0.63      2860\n",
      "weighted avg       0.79      0.72      0.74      2860\n",
      "\n"
     ]
    }
   ],
   "source": [
    "print(classification_report(y_test, y_predict))"
   ]
  },
  {
   "cell_type": "markdown",
   "id": "32dfa6f2",
   "metadata": {},
   "source": [
    "<h1> K Nearest Neighbors "
   ]
  },
  {
   "cell_type": "code",
   "execution_count": 163,
   "id": "28ca536a",
   "metadata": {},
   "outputs": [
    {
     "data": {
      "text/html": [
       "<div>\n",
       "<style scoped>\n",
       "    .dataframe tbody tr th:only-of-type {\n",
       "        vertical-align: middle;\n",
       "    }\n",
       "\n",
       "    .dataframe tbody tr th {\n",
       "        vertical-align: top;\n",
       "    }\n",
       "\n",
       "    .dataframe thead th {\n",
       "        text-align: right;\n",
       "    }\n",
       "</style>\n",
       "<table border=\"1\" class=\"dataframe\">\n",
       "  <thead>\n",
       "    <tr style=\"text-align: right;\">\n",
       "      <th></th>\n",
       "      <th>K</th>\n",
       "      <th>Accuracy</th>\n",
       "    </tr>\n",
       "  </thead>\n",
       "  <tbody>\n",
       "    <tr>\n",
       "      <th>0</th>\n",
       "      <td>1</td>\n",
       "      <td>0.66958</td>\n",
       "    </tr>\n",
       "    <tr>\n",
       "      <th>1</th>\n",
       "      <td>2</td>\n",
       "      <td>0.776224</td>\n",
       "    </tr>\n",
       "    <tr>\n",
       "      <th>2</th>\n",
       "      <td>3</td>\n",
       "      <td>0.716434</td>\n",
       "    </tr>\n",
       "    <tr>\n",
       "      <th>3</th>\n",
       "      <td>4</td>\n",
       "      <td>0.775175</td>\n",
       "    </tr>\n",
       "    <tr>\n",
       "      <th>4</th>\n",
       "      <td>5</td>\n",
       "      <td>0.735315</td>\n",
       "    </tr>\n",
       "    <tr>\n",
       "      <th>5</th>\n",
       "      <td>6</td>\n",
       "      <td>0.766434</td>\n",
       "    </tr>\n",
       "    <tr>\n",
       "      <th>6</th>\n",
       "      <td>7</td>\n",
       "      <td>0.735664</td>\n",
       "    </tr>\n",
       "    <tr>\n",
       "      <th>7</th>\n",
       "      <td>8</td>\n",
       "      <td>0.766434</td>\n",
       "    </tr>\n",
       "    <tr>\n",
       "      <th>8</th>\n",
       "      <td>9</td>\n",
       "      <td>0.740559</td>\n",
       "    </tr>\n",
       "  </tbody>\n",
       "</table>\n",
       "</div>"
      ],
      "text/plain": [
       "   K  Accuracy\n",
       "0  1   0.66958\n",
       "1  2  0.776224\n",
       "2  3  0.716434\n",
       "3  4  0.775175\n",
       "4  5  0.735315\n",
       "5  6  0.766434\n",
       "6  7  0.735664\n",
       "7  8  0.766434\n",
       "8  9  0.740559"
      ]
     },
     "execution_count": 163,
     "metadata": {},
     "output_type": "execute_result"
    }
   ],
   "source": [
    "Ks = range(1,10)\n",
    "\n",
    "table = pd.DataFrame(columns = ['K','Accuracy'])\n",
    "table['K'] = Ks\n",
    "\n",
    "j = 0\n",
    "for K in Ks:\n",
    "    \n",
    "    # Apply Knn model to training data\n",
    "    clf_knn = KNeighborsClassifier(n_neighbors = K)\n",
    "    clf_knn.fit(X_train_scaled,y_train)\n",
    "    \n",
    "    # Predict using model\n",
    "    y_pred_knn = clf_knn.predict(X_test_scaled)\n",
    "    \n",
    "    # Saving accuracy score in table\n",
    "    table.iloc[j,1] = accuracy_score(y_test,y_pred_knn)\n",
    "    j += 1\n",
    "    \n",
    "table  "
   ]
  },
  {
   "cell_type": "code",
   "execution_count": 164,
   "id": "33a02e83-40d4-4df2-9384-a8a302ac9e18",
   "metadata": {},
   "outputs": [],
   "source": [
    "knn = KNeighborsClassifier(n_neighbors = 4)\n",
    "knn.fit(X_train_scaled,y_train)\n",
    "\n",
    "y_pred = knn.predict(X_test_scaled)"
   ]
  },
  {
   "cell_type": "code",
   "execution_count": 165,
   "id": "36dbcab6-4261-4999-8a98-33093d205037",
   "metadata": {},
   "outputs": [
    {
     "name": "stdout",
     "output_type": "stream",
     "text": [
      "test accuracy: 0.7751748251748252\n",
      "train accuracy: 0.776287464812055\n"
     ]
    }
   ],
   "source": [
    "#Predict y test and check accuracy on predicting test set\n",
    "y_predict = knn.predict(X_test_scaled)\n",
    "test_accuracy = accuracy_score(y_test, y_predict)\n",
    "\n",
    "#check accuracy of model on training set to check for over/underfitting\n",
    "y_train_predicted = knn.predict(X_train_scaled)\n",
    "train_accuracy = accuracy_score(y_train, y_train_predicted)\n",
    "\n",
    "print(\"test accuracy:\", test_accuracy)\n",
    "print(\"train accuracy:\", train_accuracy)"
   ]
  },
  {
   "cell_type": "code",
   "execution_count": 166,
   "id": "2c9ce725",
   "metadata": {},
   "outputs": [
    {
     "name": "stdout",
     "output_type": "stream",
     "text": [
      "Best K value: 18\n",
      "Best Accuracy: 0.7737762237762238\n"
     ]
    }
   ],
   "source": [
    "#Use GridSearchCV to confirm best K value. Try a wider range\n",
    "\n",
    "# Define the parameter grid: values of K to test\n",
    "param_grid = {'n_neighbors': range(1, 20)}\n",
    "\n",
    "# Initialize the KNN classifier\n",
    "knn = KNeighborsClassifier()\n",
    "\n",
    "# Initialize GridSearchCV\n",
    "grid_search = GridSearchCV(knn, param_grid, cv=5, scoring='accuracy')\n",
    "\n",
    "# Fit GridSearchCV to the scaled training data\n",
    "grid_search.fit(X_train_scaled, y_train)\n",
    "\n",
    "# Find the best parameters and use them to calculate accuracy on the test set\n",
    "best_knn = grid_search.best_estimator_\n",
    "y_pred_best = best_knn.predict(X_test_scaled)\n",
    "best_accuracy = accuracy_score(y_test, y_pred_best)\n",
    "\n",
    "# Output the best K value and corresponding accuracy\n",
    "best_k = grid_search.best_params_['n_neighbors']\n",
    "print('Best K value:', best_k) \n",
    "print('Best Accuracy:', best_accuracy)"
   ]
  },
  {
   "cell_type": "code",
   "execution_count": 167,
   "id": "791883c8",
   "metadata": {},
   "outputs": [],
   "source": [
    "knn = KNeighborsClassifier(n_neighbors = best_k)\n",
    "knn.fit(X_train_scaled,y_train)\n",
    "\n",
    "y_pred = knn.predict(X_test_scaled)"
   ]
  },
  {
   "cell_type": "code",
   "execution_count": 168,
   "id": "41d2cc5d-300d-490a-9bc2-197db635a414",
   "metadata": {},
   "outputs": [
    {
     "name": "stdout",
     "output_type": "stream",
     "text": [
      "test accuracy: 0.7737762237762238\n",
      "train accuracy: 0.7355522437489651\n"
     ]
    }
   ],
   "source": [
    "#Predict y test and check accuracy on predicting test set\n",
    "y_predict = knn.predict(X_test_scaled)\n",
    "test_accuracy = accuracy_score(y_test, y_predict)\n",
    "\n",
    "#check accuracy of model on training set to check for over/underfitting\n",
    "y_train_predicted = knn.predict(X_train_scaled)\n",
    "train_accuracy = accuracy_score(y_train, y_train_predicted)\n",
    "\n",
    "print(\"test accuracy:\", test_accuracy)\n",
    "print(\"train accuracy:\", train_accuracy)"
   ]
  },
  {
   "cell_type": "code",
   "execution_count": 169,
   "id": "550aff31-5965-4957-811f-55a562baa27f",
   "metadata": {},
   "outputs": [
    {
     "name": "stdout",
     "output_type": "stream",
     "text": [
      "test recall: 0.32695984703632885\n",
      "train recall: 0.40933929458519625\n"
     ]
    }
   ],
   "source": [
    "#Predict y test and check recall on predicting test set\n",
    "y_predict = knn.predict(X_test_scaled)\n",
    "test_recall = recall_score(y_test, y_predict)\n",
    "\n",
    "#check recall of model on training set to check for over/underfitting\n",
    "y_train_predicted = knn.predict(X_train_scaled)\n",
    "train_recall = recall_score(y_train, y_train_predicted)\n",
    "\n",
    "print(\"test recall:\", test_recall)\n",
    "print(\"train recall:\", train_recall)"
   ]
  },
  {
   "cell_type": "code",
   "execution_count": 170,
   "id": "d96c7c7d",
   "metadata": {},
   "outputs": [
    {
     "name": "stdout",
     "output_type": "stream",
     "text": [
      "              precision    recall  f1-score   support\n",
      "\n",
      "           0       0.85      0.87      0.86      2337\n",
      "           1       0.37      0.33      0.35       523\n",
      "\n",
      "    accuracy                           0.77      2860\n",
      "   macro avg       0.61      0.60      0.60      2860\n",
      "weighted avg       0.76      0.77      0.77      2860\n",
      "\n"
     ]
    }
   ],
   "source": [
    "report = classification_report(y_test, y_predict)\n",
    "print(report)"
   ]
  },
  {
   "cell_type": "markdown",
   "id": "7178ab01",
   "metadata": {},
   "source": [
    "<h2> Random Forest"
   ]
  },
  {
   "cell_type": "code",
   "execution_count": 171,
   "id": "671e0b8b",
   "metadata": {},
   "outputs": [
    {
     "name": "stdout",
     "output_type": "stream",
     "text": [
      "Random Forest Accuracy =  0.7713286713286713\n",
      "Random Forest f1-score = 0.7764771607102429\n"
     ]
    }
   ],
   "source": [
    "clf_rf = RandomForestClassifier(n_estimators = 100, random_state = 42, n_jobs=-1)\n",
    "model_res = clf_rf.fit(X_train_scaled, y_train)\n",
    "y_pred = model_res.predict(X_test_scaled)\n",
    "\n",
    "ac = accuracy_score(y_test, y_pred)\n",
    "f1 = f1_score(y_test, y_pred, average='weighted')\n",
    "\n",
    "print('Random Forest Accuracy = ', ac)\n",
    "print('Random Forest f1-score =' , f1)"
   ]
  },
  {
   "cell_type": "code",
   "execution_count": 172,
   "id": "7d3ead11",
   "metadata": {},
   "outputs": [
    {
     "data": {
      "text/plain": [
       "array([[1977,  360],\n",
       "       [ 294,  229]])"
      ]
     },
     "execution_count": 172,
     "metadata": {},
     "output_type": "execute_result"
    }
   ],
   "source": [
    "cm = confusion_matrix(y_test, y_pred)\n",
    "cm"
   ]
  },
  {
   "cell_type": "code",
   "execution_count": 173,
   "id": "e03fa0d0",
   "metadata": {},
   "outputs": [
    {
     "name": "stdout",
     "output_type": "stream",
     "text": [
      "              precision    recall  f1-score   support\n",
      "\n",
      "           0       0.87      0.85      0.86      2337\n",
      "           1       0.39      0.44      0.41       523\n",
      "\n",
      "    accuracy                           0.77      2860\n",
      "   macro avg       0.63      0.64      0.63      2860\n",
      "weighted avg       0.78      0.77      0.78      2860\n",
      "\n"
     ]
    }
   ],
   "source": [
    "print(classification_report(y_test, y_pred))"
   ]
  },
  {
   "cell_type": "code",
   "execution_count": 174,
   "id": "910ee603-2d77-4d65-ad80-de87a4a4539f",
   "metadata": {},
   "outputs": [
    {
     "data": {
      "image/png": "[encoded data removed]",
      "text/plain": [
       "<Figure size 700x500 with 1 Axes>"
      ]
     },
     "metadata": {},
     "output_type": "display_data"
    }
   ],
   "source": [
    "feature_importance = clf_rf.feature_importances_\n",
    "# make importances relative to max importance\n",
    "feature_importance = 100.0 * (feature_importance / feature_importance.max())\n",
    "sorted_idx = np.argsort(feature_importance)\n",
    "\n",
    "pos = np.arange(sorted_idx.shape[0]) + .5\n",
    "\n",
    "sorted_idx.size\n",
    "plt.figure(figsize=(7,5))\n",
    "plt.barh(pos, feature_importance[sorted_idx], align='center')\n",
    "plt.yticks(pos, X.columns[sorted_idx])\n",
    "plt.xlabel('Relative Importance')\n",
    "plt.title('Feature Importance')\n",
    "plt.show();"
   ]
  },
  {
   "cell_type": "markdown",
   "id": "d566dd92-f3ec-4e58-a703-5a7d69dbc524",
   "metadata": {},
   "source": [
    "<h2> Gradient Boost with XGBoost"
   ]
  },
  {
   "cell_type": "code",
   "execution_count": 175,
   "id": "3ae6de6b-ca59-4e64-8958-4829a3056f09",
   "metadata": {},
   "outputs": [
    {
     "name": "stdout",
     "output_type": "stream",
     "text": [
      "              precision    recall  f1-score   support\n",
      "\n",
      "           0       0.86      0.81      0.83      2337\n",
      "           1       0.32      0.41      0.36       523\n",
      "\n",
      "    accuracy                           0.73      2860\n",
      "   macro avg       0.59      0.61      0.60      2860\n",
      "weighted avg       0.76      0.73      0.75      2860\n",
      "\n"
     ]
    }
   ],
   "source": [
    "clf_xgb = xgb.XGBClassifier(n_estimators=100, random_state=42, eval_metric='logloss')\n",
    "model_res = clf_xgb.fit(X_train_scaled, y_train)\n",
    "y_pred = model_res.predict(X_test_scaled)\n",
    "\n",
    "print(classification_report(y_test, y_pred))"
   ]
  },
  {
   "cell_type": "code",
   "execution_count": 176,
   "id": "cc8ef877-29c4-43f5-a283-3183d876198c",
   "metadata": {},
   "outputs": [],
   "source": [
    "#Use LightGBM to optimize?"
   ]
  },
  {
   "cell_type": "markdown",
   "id": "edece550-3ee3-475b-88f1-b762c1146842",
   "metadata": {},
   "source": [
    "Conclusion: Even without optimization, the gradient boost model gives the best results. As our primary business interest is to identify churn, we prioritize sensitivity (recall), the true positive rate. \n",
    "\n",
    "The random forest model had very slightly higher scores for precision and the related score f1. It might be worthwhile to discuss how the model results will be used with stakeholders. If the planned intervention on customers at risk of churn is expensive or limited, elevating the importance of precision may be warranted. "
   ]
  },
  {
   "cell_type": "code",
   "execution_count": null,
   "id": "4965d68c-090b-47f9-a8e5-81efa2847195",
   "metadata": {},
   "outputs": [],
   "source": []
  }
 ],
 "metadata": {
  "kernelspec": {
   "display_name": "Python 3 (ipykernel)",
   "language": "python",
   "name": "python3"
  },
  "language_info": {
   "codemirror_mode": {
    "name": "ipython",
    "version": 3
   },
   "file_extension": ".py",
   "mimetype": "text/x-python",
   "name": "python",
   "nbconvert_exporter": "python",
   "pygments_lexer": "ipython3",
   "version": "3.10.13"
  }
 },
 "nbformat": 4,
 "nbformat_minor": 5
}
